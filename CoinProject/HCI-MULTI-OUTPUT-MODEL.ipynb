{
 "cells": [
  {
   "cell_type": "code",
   "execution_count": 43,
   "id": "e56cedda",
   "metadata": {},
   "outputs": [],
   "source": [
    "import pandas as pd\n",
    "from sklearn.model_selection import train_test_split\n",
    "from sklearn.tree import DecisionTreeClassifier\n",
    "import numpy as np\n",
    "from sklearn.model_selection import RandomizedSearchCV\n",
    "from sklearn.multioutput import MultiOutputClassifier"
   ]
  },
  {
   "cell_type": "markdown",
   "id": "21c9e4c1",
   "metadata": {},
   "source": [
    "### Functions used"
   ]
  },
  {
   "cell_type": "code",
   "execution_count": 44,
   "id": "52bb8427",
   "metadata": {},
   "outputs": [],
   "source": [
    "def compute_accuracy(predictions, actual):\n",
    "    return np.sum(predictions==actual) / float(len(actual)) * 100"
   ]
  },
  {
   "cell_type": "markdown",
   "id": "2c3e53be",
   "metadata": {},
   "source": [
    "# PHASE 1 - INITIAL"
   ]
  },
  {
   "cell_type": "code",
   "execution_count": 45,
   "id": "23731f30",
   "metadata": {},
   "outputs": [
    {
     "name": "stdout",
     "output_type": "stream",
     "text": [
      "    C1_R C1_NR C2_R C2_NR C3_R C3_NR CC_R CC_NR  TimeTaken Likert\n",
      "0      L     L    M     M    H     H    H     H       4464     CC\n",
      "1      L     L    M     M    H     H    H     H       2416     CC\n",
      "2      L     L    M     M    H     H    H     H       3917     CC\n",
      "3      L     L    M     M    H     H    H     H       5412     CC\n",
      "4      L     L    M     M    H     H    H     H      10412     CC\n",
      "..   ...   ...  ...   ...  ...   ...  ...   ...        ...    ...\n",
      "120    M     H    L     M    H     L    H     L       7774     FC\n",
      "121    M     H    L     M    H     L    M     H      11651     FC\n",
      "122    M     H    L     M    H     L    L     M       7832     CC\n",
      "123    M     H    L     M    H     L    H     L      15142     FC\n",
      "124    M     H    L     M    H     L    H     L       8463     CC\n",
      "\n",
      "[125 rows x 10 columns]\n",
      "     C1_R_H  C1_R_L  C1_R_M  C1_NR_H  C1_NR_L  C2_R_L  C2_R_M  C2_NR_H  \\\n",
      "0         0       1       0        0        1       0       1        0   \n",
      "1         0       1       0        0        1       0       1        0   \n",
      "2         0       1       0        0        1       0       1        0   \n",
      "3         0       1       0        0        1       0       1        0   \n",
      "4         0       1       0        0        1       0       1        0   \n",
      "..      ...     ...     ...      ...      ...     ...     ...      ...   \n",
      "120       0       0       1        1        0       1       0        0   \n",
      "121       0       0       1        1        0       1       0        0   \n",
      "122       0       0       1        1        0       1       0        0   \n",
      "123       0       0       1        1        0       1       0        0   \n",
      "124       0       0       1        1        0       1       0        0   \n",
      "\n",
      "     C2_NR_M  C3_R_H  C3_R_M  C3_NR_H  C3_NR_L  C3_NR_M  \n",
      "0          1       1       0        1        0        0  \n",
      "1          1       1       0        1        0        0  \n",
      "2          1       1       0        1        0        0  \n",
      "3          1       1       0        1        0        0  \n",
      "4          1       1       0        1        0        0  \n",
      "..       ...     ...     ...      ...      ...      ...  \n",
      "120        1       1       0        0        1        0  \n",
      "121        1       1       0        0        1        0  \n",
      "122        1       1       0        0        1        0  \n",
      "123        1       1       0        0        1        0  \n",
      "124        1       1       0        0        1        0  \n",
      "\n",
      "[125 rows x 14 columns]\n",
      "    CC_R CC_NR\n",
      "0      H     H\n",
      "1      H     H\n",
      "2      H     H\n",
      "3      H     H\n",
      "4      H     H\n",
      "..   ...   ...\n",
      "120    H     L\n",
      "121    M     H\n",
      "122    L     M\n",
      "123    H     L\n",
      "124    H     L\n",
      "\n",
      "[125 rows x 2 columns]\n"
     ]
    }
   ],
   "source": [
    "# Read the CSV file into a DataFrame\n",
    "df = pd.read_csv('Book1_Split.csv')\n",
    "\n",
    "selected_rows = df.iloc[0:125]\n",
    "\n",
    "# Drop any columns that are not features\n",
    "X = selected_rows.drop(columns=['CC_R', 'CC_NR', 'TimeTaken', 'Likert'])\n",
    "\n",
    "# Encode categorical variables if necessary\n",
    "X = pd.get_dummies(X)\n",
    "\n",
    "# Target variable\n",
    "y = selected_rows[['CC_R', 'CC_NR']]\n",
    "\n",
    "# Split the data into training and testing sets\n",
    "X_train, X_test, y_train, y_test = train_test_split(X, y, test_size=0.2, random_state=42)\n",
    "\n",
    "print(selected_rows)\n",
    "print(X)\n",
    "print(y)"
   ]
  },
  {
   "cell_type": "markdown",
   "id": "6568e97c",
   "metadata": {},
   "source": [
    "# Decision Tree for Phase 1"
   ]
  },
  {
   "cell_type": "code",
   "execution_count": 46,
   "id": "a42b18d5",
   "metadata": {},
   "outputs": [],
   "source": [
    "# Initialize the decision tree classifier\n",
    "dtc = DecisionTreeClassifier()\n",
    "\n",
    "# Wrap the classifier with MultiOutputClassifier\n",
    "multi_output_dtc = MultiOutputClassifier(dtc)\n",
    "\n",
    "\n",
    "# Define hyperparameters for the decision tree\n",
    "hyperparameters = {\n",
    "    'estimator__criterion': ['gini', 'entropy'],\n",
    "    'estimator__max_depth': [5, 10, 20, 30],\n",
    "    'estimator__min_samples_split': [2, 4, 6, 10, 15, 20],\n",
    "    'estimator__max_leaf_nodes': [3, 5, 10, 20, 50, 100]\n",
    "}\n",
    "\n",
    "# Configure RandomizedSearchCV\n",
    "rsc = RandomizedSearchCV(estimator=multi_output_dtc, param_distributions=hyperparameters, n_iter=50, cv=5, random_state=13)\n",
    "rsc.fit(X_train, y_train)\n",
    "\n",
    "# Results and best model\n",
    "best_params = rsc.best_params_\n",
    "best_model = rsc.best_estimator_\n",
    "\n",
    "# Predict with the best model\n",
    "predictions = best_model.predict(X_test)"
   ]
  },
  {
   "cell_type": "code",
   "execution_count": 47,
   "id": "1ab5ee8b",
   "metadata": {},
   "outputs": [
    {
     "name": "stdout",
     "output_type": "stream",
     "text": [
      "Test accuracy for PHASE 1 is :  CC_R     60.0\n",
      "CC_NR    60.0\n",
      "dtype: float64\n"
     ]
    }
   ],
   "source": [
    "print(\"Test accuracy for PHASE 1 is : \", compute_accuracy(predictions, y_test))"
   ]
  },
  {
   "cell_type": "markdown",
   "id": "ecf7451d",
   "metadata": {},
   "source": [
    "# PHASE 2 - Rebuild using Star Scheme"
   ]
  },
  {
   "cell_type": "code",
   "execution_count": 48,
   "id": "b3647d1c",
   "metadata": {},
   "outputs": [
    {
     "name": "stdout",
     "output_type": "stream",
     "text": [
      "    C1_R C1_NR C2_R C2_NR C3_R C3_NR CC_R CC_NR  TimeTaken Likert\n",
      "125    L     L    H     H    M     M    M     M       4752     CC\n",
      "126    L     L    H     H    M     M    H     H       2385     CC\n",
      "127    L     L    H     H    M     M    H     H      17683     FC\n",
      "128    L     L    H     H    M     M    H     H       9321     CC\n",
      "129    L     L    H     H    M     M    H     H      10708     CC\n",
      "..   ...   ...  ...   ...  ...   ...  ...   ...        ...    ...\n",
      "245    L     M    M     H    H     L    H     L       4548     CC\n",
      "246    L     M    M     H    H     L    H     L      15834     CC\n",
      "247    L     M    M     H    H     L    M     H       8578     CC\n",
      "248    L     M    M     H    H     L    M     H       4324     FC\n",
      "249    L     M    M     H    H     L    H     L       9539     FC\n",
      "\n",
      "[125 rows x 10 columns]\n",
      "     C1_R_H  C1_R_L  C1_NR_L  C1_NR_M  C2_R_H  C2_R_M  C2_NR_H  C2_NR_M  \\\n",
      "125       0       1        1        0       1       0        1        0   \n",
      "126       0       1        1        0       1       0        1        0   \n",
      "127       0       1        1        0       1       0        1        0   \n",
      "128       0       1        1        0       1       0        1        0   \n",
      "129       0       1        1        0       1       0        1        0   \n",
      "..      ...     ...      ...      ...     ...     ...      ...      ...   \n",
      "245       0       1        0        1       0       1        1        0   \n",
      "246       0       1        0        1       0       1        1        0   \n",
      "247       0       1        0        1       0       1        1        0   \n",
      "248       0       1        0        1       0       1        1        0   \n",
      "249       0       1        0        1       0       1        1        0   \n",
      "\n",
      "     C3_R_H  C3_R_L  C3_R_M  C3_NR_H  C3_NR_L  C3_NR_M  \n",
      "125       0       0       1        0        0        1  \n",
      "126       0       0       1        0        0        1  \n",
      "127       0       0       1        0        0        1  \n",
      "128       0       0       1        0        0        1  \n",
      "129       0       0       1        0        0        1  \n",
      "..      ...     ...     ...      ...      ...      ...  \n",
      "245       1       0       0        0        1        0  \n",
      "246       1       0       0        0        1        0  \n",
      "247       1       0       0        0        1        0  \n",
      "248       1       0       0        0        1        0  \n",
      "249       1       0       0        0        1        0  \n",
      "\n",
      "[125 rows x 14 columns]\n",
      "    CC_R CC_NR\n",
      "125    M     M\n",
      "126    H     H\n",
      "127    H     H\n",
      "128    H     H\n",
      "129    H     H\n",
      "..   ...   ...\n",
      "245    H     L\n",
      "246    H     L\n",
      "247    M     H\n",
      "248    M     H\n",
      "249    H     L\n",
      "\n",
      "[125 rows x 2 columns]\n"
     ]
    }
   ],
   "source": [
    "selected_rows = df.iloc[125:250]\n",
    "\n",
    "# Drop any columns that are not features\n",
    "X = selected_rows.drop(columns=['CC_R', 'CC_NR', 'TimeTaken', 'Likert'])\n",
    "\n",
    "# Encode categorical variables if necessary\n",
    "X = pd.get_dummies(X)\n",
    "\n",
    "# Target variable\n",
    "y = selected_rows[['CC_R', 'CC_NR']]\n",
    "\n",
    "# Split the data into training and testing sets\n",
    "X_train, X_test, y_train, y_test = train_test_split(X, y, test_size=0.2, random_state=42)\n",
    "\n",
    "print(selected_rows)\n",
    "print(X)\n",
    "print(y)"
   ]
  },
  {
   "cell_type": "markdown",
   "id": "dfc845da",
   "metadata": {},
   "source": [
    "# Decision Tree for Phase 2"
   ]
  },
  {
   "cell_type": "code",
   "execution_count": 49,
   "id": "23459594",
   "metadata": {},
   "outputs": [],
   "source": [
    "# Initialize the decision tree classifier\n",
    "dtc = DecisionTreeClassifier()\n",
    "\n",
    "# Wrap the classifier with MultiOutputClassifier\n",
    "multi_output_dtc = MultiOutputClassifier(dtc)\n",
    "\n",
    "\n",
    "# Define hyperparameters for the decision tree\n",
    "hyperparameters = {\n",
    "    'estimator__criterion': ['gini', 'entropy'],\n",
    "    'estimator__max_depth': [5, 10, 20, 30],\n",
    "    'estimator__min_samples_split': [2, 4, 6, 10, 15, 20],\n",
    "    'estimator__max_leaf_nodes': [3, 5, 10, 20, 50, 100]\n",
    "}\n",
    "\n",
    "# Configure RandomizedSearchCV\n",
    "rsc = RandomizedSearchCV(estimator=multi_output_dtc, param_distributions=hyperparameters, n_iter=50, cv=5, random_state=13)\n",
    "rsc.fit(X_train, y_train)\n",
    "\n",
    "# Results and best model\n",
    "best_params = rsc.best_params_\n",
    "best_model = rsc.best_estimator_\n",
    "\n",
    "# Predict with the best model\n",
    "predictions = best_model.predict(X_test)"
   ]
  },
  {
   "cell_type": "code",
   "execution_count": 50,
   "id": "df967be2",
   "metadata": {},
   "outputs": [
    {
     "name": "stdout",
     "output_type": "stream",
     "text": [
      "Test accuracy for PHASE 2 is :  CC_R     64.0\n",
      "CC_NR    64.0\n",
      "dtype: float64\n"
     ]
    }
   ],
   "source": [
    "print(\"Test accuracy for PHASE 2 is : \", compute_accuracy(predictions, y_test))"
   ]
  },
  {
   "cell_type": "markdown",
   "id": "cbe75731",
   "metadata": {},
   "source": [
    "# PHASE 3 - Rebuild using Like Scheme"
   ]
  },
  {
   "cell_type": "code",
   "execution_count": 51,
   "id": "3bfc6511",
   "metadata": {},
   "outputs": [
    {
     "name": "stdout",
     "output_type": "stream",
     "text": [
      "    C1_R C1_NR C2_R C2_NR C3_R C3_NR CC_R CC_NR  TimeTaken Likert\n",
      "250    L     L    H     H    M     M    M     M       5041     CC\n",
      "251    L     L    H     H    M     M    H     H       2992     CC\n",
      "252    L     L    H     H    M     M    H     H       9236     CC\n",
      "253    L     L    H     H    M     M    H     H      10289     CC\n",
      "254    L     L    H     H    M     M    H     H       8219     FC\n",
      "..   ...   ...  ...   ...  ...   ...  ...   ...        ...    ...\n",
      "370    L     M    M     H    H     L    H     L       7775     CC\n",
      "371    L     M    M     H    H     L    M     H      12559     CC\n",
      "372    L     M    M     H    H     L    M     H       7128     CC\n",
      "373    L     M    M     H    H     L    M     H       9269     FC\n",
      "374    L     M    M     H    H     L    M     H      11454     FC\n",
      "\n",
      "[125 rows x 10 columns]\n",
      "     C1_R_H  C1_R_L  C1_NR_L  C1_NR_M  C2_R_H  C2_R_M  C2_NR_H  C2_NR_M  \\\n",
      "250       0       1        1        0       1       0        1        0   \n",
      "251       0       1        1        0       1       0        1        0   \n",
      "252       0       1        1        0       1       0        1        0   \n",
      "253       0       1        1        0       1       0        1        0   \n",
      "254       0       1        1        0       1       0        1        0   \n",
      "..      ...     ...      ...      ...     ...     ...      ...      ...   \n",
      "370       0       1        0        1       0       1        1        0   \n",
      "371       0       1        0        1       0       1        1        0   \n",
      "372       0       1        0        1       0       1        1        0   \n",
      "373       0       1        0        1       0       1        1        0   \n",
      "374       0       1        0        1       0       1        1        0   \n",
      "\n",
      "     C3_R_H  C3_R_L  C3_R_M  C3_NR_H  C3_NR_L  C3_NR_M  \n",
      "250       0       0       1        0        0        1  \n",
      "251       0       0       1        0        0        1  \n",
      "252       0       0       1        0        0        1  \n",
      "253       0       0       1        0        0        1  \n",
      "254       0       0       1        0        0        1  \n",
      "..      ...     ...     ...      ...      ...      ...  \n",
      "370       1       0       0        0        1        0  \n",
      "371       1       0       0        0        1        0  \n",
      "372       1       0       0        0        1        0  \n",
      "373       1       0       0        0        1        0  \n",
      "374       1       0       0        0        1        0  \n",
      "\n",
      "[125 rows x 14 columns]\n",
      "    CC_R CC_NR\n",
      "250    M     M\n",
      "251    H     H\n",
      "252    H     H\n",
      "253    H     H\n",
      "254    H     H\n",
      "..   ...   ...\n",
      "370    H     L\n",
      "371    M     H\n",
      "372    M     H\n",
      "373    M     H\n",
      "374    M     H\n",
      "\n",
      "[125 rows x 2 columns]\n"
     ]
    }
   ],
   "source": [
    "selected_rows = df.iloc[250:375]\n",
    "\n",
    "# Drop any columns that are not features\n",
    "X = selected_rows.drop(columns=['CC_R', 'CC_NR', 'TimeTaken', 'Likert'])\n",
    "\n",
    "# Encode categorical variables if necessary\n",
    "X = pd.get_dummies(X)\n",
    "\n",
    "# Target variable\n",
    "y = selected_rows[['CC_R', 'CC_NR']]\n",
    "\n",
    "# Split the data into training and testing sets\n",
    "X_train, X_test, y_train, y_test = train_test_split(X, y, test_size=0.2, random_state=42)\n",
    "\n",
    "print(selected_rows)\n",
    "print(X)\n",
    "print(y)"
   ]
  },
  {
   "cell_type": "markdown",
   "id": "4a6dee1c",
   "metadata": {},
   "source": [
    "# Decision Tree for Phase 3"
   ]
  },
  {
   "cell_type": "code",
   "execution_count": 52,
   "id": "56fab588",
   "metadata": {},
   "outputs": [],
   "source": [
    "# Initialize the decision tree classifier\n",
    "dtc = DecisionTreeClassifier()\n",
    "\n",
    "# Wrap the classifier with MultiOutputClassifier\n",
    "multi_output_dtc = MultiOutputClassifier(dtc)\n",
    "\n",
    "\n",
    "# Define hyperparameters for the decision tree\n",
    "hyperparameters = {\n",
    "    'estimator__criterion': ['gini', 'entropy'],\n",
    "    'estimator__max_depth': [5, 10, 20, 30],\n",
    "    'estimator__min_samples_split': [2, 4, 6, 10, 15, 20],\n",
    "    'estimator__max_leaf_nodes': [3, 5, 10, 20, 50, 100]\n",
    "}\n",
    "\n",
    "# Configure RandomizedSearchCV\n",
    "rsc = RandomizedSearchCV(estimator=multi_output_dtc, param_distributions=hyperparameters, n_iter=50, cv=5, random_state=13)\n",
    "rsc.fit(X_train, y_train)\n",
    "\n",
    "# Results and best model\n",
    "best_params = rsc.best_params_\n",
    "best_model = rsc.best_estimator_\n",
    "\n",
    "# Predict with the best model\n",
    "predictions = best_model.predict(X_test)"
   ]
  },
  {
   "cell_type": "code",
   "execution_count": 53,
   "id": "ce03c751",
   "metadata": {},
   "outputs": [
    {
     "name": "stdout",
     "output_type": "stream",
     "text": [
      "Test accuracy for PHASE 3 is :  CC_R     64.0\n",
      "CC_NR    64.0\n",
      "dtype: float64\n"
     ]
    }
   ],
   "source": [
    "print(\"Test accuracy for PHASE 3 is : \", compute_accuracy(predictions, y_test))"
   ]
  },
  {
   "cell_type": "markdown",
   "id": "a6ab511f",
   "metadata": {},
   "source": [
    "# PHASE 4 - Rebuild using Upvote Scheme"
   ]
  },
  {
   "cell_type": "code",
   "execution_count": 54,
   "id": "d5ab09bc",
   "metadata": {},
   "outputs": [
    {
     "name": "stdout",
     "output_type": "stream",
     "text": [
      "    C1_R C1_NR C2_R C2_NR C3_R C3_NR CC_R CC_NR  TimeTaken Likert\n",
      "375    L     L    H     H    M     M    M     M       6889     CC\n",
      "376    L     L    H     H    M     M    H     H       4919     CC\n",
      "377    L     L    H     H    M     M    H     H       6173     FC\n",
      "378    L     L    H     H    M     M    H     H      11576     CC\n",
      "379    L     L    H     H    M     M    H     H       4983     CC\n",
      "..   ...   ...  ...   ...  ...   ...  ...   ...        ...    ...\n",
      "495    L     M    M     H    H     L    M     H       9058     SC\n",
      "496    L     M    M     H    H     L    H     L      10601     CC\n",
      "497    L     M    M     H    H     L    M     H       7276     CC\n",
      "498    L     M    M     H    H     L    M     H      40409     FC\n",
      "499    L     M    M     H    H     L    L     M      13591     SC\n",
      "\n",
      "[125 rows x 10 columns]\n",
      "     C1_R_H  C1_R_L  C1_NR_L  C1_NR_M  C2_R_H  C2_R_M  C2_NR_H  C2_NR_M  \\\n",
      "375       0       1        1        0       1       0        1        0   \n",
      "376       0       1        1        0       1       0        1        0   \n",
      "377       0       1        1        0       1       0        1        0   \n",
      "378       0       1        1        0       1       0        1        0   \n",
      "379       0       1        1        0       1       0        1        0   \n",
      "..      ...     ...      ...      ...     ...     ...      ...      ...   \n",
      "495       0       1        0        1       0       1        1        0   \n",
      "496       0       1        0        1       0       1        1        0   \n",
      "497       0       1        0        1       0       1        1        0   \n",
      "498       0       1        0        1       0       1        1        0   \n",
      "499       0       1        0        1       0       1        1        0   \n",
      "\n",
      "     C3_R_H  C3_R_L  C3_R_M  C3_NR_H  C3_NR_L  C3_NR_M  \n",
      "375       0       0       1        0        0        1  \n",
      "376       0       0       1        0        0        1  \n",
      "377       0       0       1        0        0        1  \n",
      "378       0       0       1        0        0        1  \n",
      "379       0       0       1        0        0        1  \n",
      "..      ...     ...     ...      ...      ...      ...  \n",
      "495       1       0       0        0        1        0  \n",
      "496       1       0       0        0        1        0  \n",
      "497       1       0       0        0        1        0  \n",
      "498       1       0       0        0        1        0  \n",
      "499       1       0       0        0        1        0  \n",
      "\n",
      "[125 rows x 14 columns]\n",
      "    CC_R CC_NR\n",
      "375    M     M\n",
      "376    H     H\n",
      "377    H     H\n",
      "378    H     H\n",
      "379    H     H\n",
      "..   ...   ...\n",
      "495    M     H\n",
      "496    H     L\n",
      "497    M     H\n",
      "498    M     H\n",
      "499    L     M\n",
      "\n",
      "[125 rows x 2 columns]\n"
     ]
    }
   ],
   "source": [
    "selected_rows = df.iloc[375:500]\n",
    "\n",
    "# Drop any columns that are not features\n",
    "X = selected_rows.drop(columns=['CC_R', 'CC_NR', 'TimeTaken', 'Likert'])\n",
    "\n",
    "# Encode categorical variables if necessary\n",
    "X = pd.get_dummies(X)\n",
    "\n",
    "# Target variable\n",
    "y = selected_rows[['CC_R', 'CC_NR']]\n",
    "\n",
    "# Split the data into training and testing sets\n",
    "X_train, X_test, y_train, y_test = train_test_split(X, y, test_size=0.2, random_state=42)\n",
    "\n",
    "print(selected_rows)\n",
    "print(X)\n",
    "print(y)"
   ]
  },
  {
   "cell_type": "markdown",
   "id": "a1b4faa9",
   "metadata": {},
   "source": [
    "# Decision Tree for Phase 4"
   ]
  },
  {
   "cell_type": "code",
   "execution_count": 55,
   "id": "a9d7ae48",
   "metadata": {},
   "outputs": [],
   "source": [
    "# Initialize the decision tree classifier\n",
    "dtc = DecisionTreeClassifier()\n",
    "\n",
    "# Wrap the classifier with MultiOutputClassifier\n",
    "multi_output_dtc = MultiOutputClassifier(dtc)\n",
    "\n",
    "\n",
    "# Define hyperparameters for the decision tree\n",
    "hyperparameters = {\n",
    "    'estimator__criterion': ['gini', 'entropy'],\n",
    "    'estimator__max_depth': [5, 10, 20, 30],\n",
    "    'estimator__min_samples_split': [2, 4, 6, 10, 15, 20],\n",
    "    'estimator__max_leaf_nodes': [3, 5, 10, 20, 50, 100]\n",
    "}\n",
    "\n",
    "# Configure RandomizedSearchCV\n",
    "rsc = RandomizedSearchCV(estimator=multi_output_dtc, param_distributions=hyperparameters, n_iter=50, cv=5, random_state=13)\n",
    "rsc.fit(X_train, y_train)\n",
    "\n",
    "# Results and best model\n",
    "best_params = rsc.best_params_\n",
    "best_model = rsc.best_estimator_\n",
    "\n",
    "# Predict with the best model\n",
    "predictions = best_model.predict(X_test)"
   ]
  },
  {
   "cell_type": "code",
   "execution_count": 56,
   "id": "f03b66c6",
   "metadata": {},
   "outputs": [
    {
     "name": "stdout",
     "output_type": "stream",
     "text": [
      "Test accuracy for PHASE 4 is :  CC_R     64.0\n",
      "CC_NR    64.0\n",
      "dtype: float64\n"
     ]
    }
   ],
   "source": [
    "print(\"Test accuracy for PHASE 4 is : \", compute_accuracy(predictions, y_test))"
   ]
  }
 ],
 "metadata": {
  "kernelspec": {
   "display_name": "Python 3 (ipykernel)",
   "language": "python",
   "name": "python3"
  },
  "language_info": {
   "codemirror_mode": {
    "name": "ipython",
    "version": 3
   },
   "file_extension": ".py",
   "mimetype": "text/x-python",
   "name": "python",
   "nbconvert_exporter": "python",
   "pygments_lexer": "ipython3",
   "version": "3.9.18"
  }
 },
 "nbformat": 4,
 "nbformat_minor": 5
}
