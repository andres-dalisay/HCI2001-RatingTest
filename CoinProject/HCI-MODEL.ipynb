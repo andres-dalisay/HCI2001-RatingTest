{
 "cells": [
  {
   "cell_type": "code",
   "execution_count": 15,
   "id": "e56cedda",
   "metadata": {},
   "outputs": [],
   "source": [
    "import pandas as pd\n",
    "from sklearn.model_selection import train_test_split\n",
    "from sklearn.tree import DecisionTreeClassifier\n",
    "import numpy as np\n",
    "from sklearn.model_selection import RandomizedSearchCV"
   ]
  },
  {
   "cell_type": "markdown",
   "id": "21c9e4c1",
   "metadata": {},
   "source": [
    "### Functions used"
   ]
  },
  {
   "cell_type": "code",
   "execution_count": 2,
   "id": "52bb8427",
   "metadata": {},
   "outputs": [],
   "source": [
    "def compute_accuracy(predictions, actual):\n",
    "    return np.sum(predictions==actual) / len(actual) * 100"
   ]
  },
  {
   "cell_type": "markdown",
   "id": "2c3e53be",
   "metadata": {},
   "source": [
    "# PHASE 1 - INITIAL"
   ]
  },
  {
   "cell_type": "code",
   "execution_count": 3,
   "id": "23731f30",
   "metadata": {},
   "outputs": [
    {
     "name": "stdout",
     "output_type": "stream",
     "text": [
      "    Choice1 Choice2 Choice3 Chosen  TimeTaken Likert\n",
      "0        LL      MM      HH     HH       4464     CC\n",
      "1        LL      MM      HH     HH       2416     CC\n",
      "2        LL      MM      HH     HH       3917     CC\n",
      "3        LL      MM      HH     HH       5412     CC\n",
      "4        LL      MM      HH     HH      10412     CC\n",
      "..      ...     ...     ...    ...        ...    ...\n",
      "120      MH      LM      HL     HL       7774     FC\n",
      "121      MH      LM      HL     MH      11651     FC\n",
      "122      MH      LM      HL     LM       7832     CC\n",
      "123      MH      LM      HL     HL      15142     FC\n",
      "124      MH      LM      HL     HL       8463     CC\n",
      "\n",
      "[125 rows x 6 columns]\n",
      "     Choice1_HL  Choice1_LL  Choice1_MH  Choice2_LH  Choice2_LM  Choice2_LM   \\\n",
      "0             0           1           0           0           0            0   \n",
      "1             0           1           0           0           0            0   \n",
      "2             0           1           0           0           0            0   \n",
      "3             0           1           0           0           0            0   \n",
      "4             0           1           0           0           0            0   \n",
      "..          ...         ...         ...         ...         ...          ...   \n",
      "120           0           0           1           0           1            0   \n",
      "121           0           0           1           0           1            0   \n",
      "122           0           0           1           0           1            0   \n",
      "123           0           0           1           0           1            0   \n",
      "124           0           0           1           0           1            0   \n",
      "\n",
      "     Choice2_MM  Choice3_HH  Choice3_HL  Choice3_MH  Choice3_MM  \n",
      "0             1           1           0           0           0  \n",
      "1             1           1           0           0           0  \n",
      "2             1           1           0           0           0  \n",
      "3             1           1           0           0           0  \n",
      "4             1           1           0           0           0  \n",
      "..          ...         ...         ...         ...         ...  \n",
      "120           0           0           1           0           0  \n",
      "121           0           0           1           0           0  \n",
      "122           0           0           1           0           0  \n",
      "123           0           0           1           0           0  \n",
      "124           0           0           1           0           0  \n",
      "\n",
      "[125 rows x 11 columns]\n",
      "0      HH\n",
      "1      HH\n",
      "2      HH\n",
      "3      HH\n",
      "4      HH\n",
      "       ..\n",
      "120    HL\n",
      "121    MH\n",
      "122    LM\n",
      "123    HL\n",
      "124    HL\n",
      "Name: Chosen, Length: 125, dtype: object\n"
     ]
    }
   ],
   "source": [
    "# Read the CSV file into a DataFrame\n",
    "df = pd.read_csv('Book1.csv')\n",
    "\n",
    "selected_rows = df.iloc[0:125]\n",
    "\n",
    "# Drop any columns that are not features\n",
    "X = selected_rows.drop(columns=['Chosen', 'TimeTaken', 'Likert'])\n",
    "\n",
    "# Encode categorical variables if necessary\n",
    "X = pd.get_dummies(X)\n",
    "\n",
    "# Target variable\n",
    "y = selected_rows['Chosen']\n",
    "\n",
    "# Split the data into training and testing sets\n",
    "X_train, X_test, y_train, y_test = train_test_split(X, y, test_size=0.2, random_state=42)\n",
    "\n",
    "print(selected_rows)\n",
    "print(X)\n",
    "print(y)"
   ]
  },
  {
   "cell_type": "markdown",
   "id": "6568e97c",
   "metadata": {},
   "source": [
    "# Decision Tree for Phase 1"
   ]
  },
  {
   "cell_type": "code",
   "execution_count": 4,
   "id": "a42b18d5",
   "metadata": {},
   "outputs": [
    {
     "name": "stderr",
     "output_type": "stream",
     "text": [
      "c:\\Users\\windows\\anaconda3\\lib\\site-packages\\sklearn\\model_selection\\_split.py:725: UserWarning: The least populated class in y has only 1 members, which is less than n_splits=5.\n",
      "  warnings.warn(\n"
     ]
    }
   ],
   "source": [
    "# Initialize and train the decision tree classifier\n",
    "dtc = DecisionTreeClassifier()\n",
    "\n",
    "dtc.get_params().keys()\n",
    "\n",
    "hyperparameters = [\n",
    "    {\n",
    "        'criterion': ['gini', 'entropy'],\n",
    "        'max_depth': [5, 10, 20, 30],\n",
    "        'min_samples_split': [2, 4, 6, 10, 15, 20],\n",
    "        'max_leaf_nodes': [3, 5, 10, 20, 50, 100]\n",
    "    }\n",
    "]\n",
    "\n",
    "rsc = RandomizedSearchCV(estimator=dtc,param_distributions=hyperparameters,n_iter=50,cv=5,random_state=13)\n",
    "rsc.fit(X_train, y_train)\n",
    "\n",
    "pd.set_option('display.max_colwidth', None)\n",
    "\n",
    "rsc_results = pd.DataFrame(rsc.cv_results_)\n",
    "\n",
    "best_index = rsc.best_index_\n",
    "\n",
    "rsc_results.loc[best_index]\n",
    "\n",
    "best_acc = rsc.best_score_\n",
    "\n",
    "predictions = rsc.best_estimator_.predict(X_test)"
   ]
  },
  {
   "cell_type": "code",
   "execution_count": 5,
   "id": "1ab5ee8b",
   "metadata": {},
   "outputs": [
    {
     "name": "stdout",
     "output_type": "stream",
     "text": [
      "Test accuracy for PHASE 1 is :  60.0 %\n"
     ]
    }
   ],
   "source": [
    "print(\"Test accuracy for PHASE 1 is : \", compute_accuracy(predictions, y_test), \"%\")"
   ]
  },
  {
   "cell_type": "markdown",
   "id": "ecf7451d",
   "metadata": {},
   "source": [
    "# PHASE 2 - Rebuild using Star Scheme"
   ]
  },
  {
   "cell_type": "code",
   "execution_count": 6,
   "id": "b3647d1c",
   "metadata": {},
   "outputs": [
    {
     "name": "stdout",
     "output_type": "stream",
     "text": [
      "    Choice1 Choice2 Choice3 Chosen  TimeTaken Likert\n",
      "125      LL      HH      MM     MM       4752     CC\n",
      "126      LL      HH      MM     HH       2385     CC\n",
      "127      LL      HH      MM     HH      17683     FC\n",
      "128      LL      HH      MM     HH       9321     CC\n",
      "129      LL      HH      MM     HH      10708     CC\n",
      "..      ...     ...     ...    ...        ...    ...\n",
      "245      LM      MH      HL     HL       4548     CC\n",
      "246      LM      MH      HL     HL      15834     CC\n",
      "247      LM      MH      HL     MH       8578     CC\n",
      "248      LM      MH      HL     MH       4324     FC\n",
      "249      LM      MH      HL     HL       9539     FC\n",
      "\n",
      "[125 rows x 6 columns]\n",
      "     Choice1_HL  Choice1_LL  Choice1_LM  Choice2_HH  Choice2_MH  Choice2_MM  \\\n",
      "125           0           1           0           1           0           0   \n",
      "126           0           1           0           1           0           0   \n",
      "127           0           1           0           1           0           0   \n",
      "128           0           1           0           1           0           0   \n",
      "129           0           1           0           1           0           0   \n",
      "..          ...         ...         ...         ...         ...         ...   \n",
      "245           0           0           1           0           1           0   \n",
      "246           0           0           1           0           1           0   \n",
      "247           0           0           1           0           1           0   \n",
      "248           0           0           1           0           1           0   \n",
      "249           0           0           1           0           1           0   \n",
      "\n",
      "     Choice3_HL  Choice3_LH  Choice3_LM  Choice3_MM  \n",
      "125           0           0           0           1  \n",
      "126           0           0           0           1  \n",
      "127           0           0           0           1  \n",
      "128           0           0           0           1  \n",
      "129           0           0           0           1  \n",
      "..          ...         ...         ...         ...  \n",
      "245           1           0           0           0  \n",
      "246           1           0           0           0  \n",
      "247           1           0           0           0  \n",
      "248           1           0           0           0  \n",
      "249           1           0           0           0  \n",
      "\n",
      "[125 rows x 10 columns]\n",
      "125    MM\n",
      "126    HH\n",
      "127    HH\n",
      "128    HH\n",
      "129    HH\n",
      "       ..\n",
      "245    HL\n",
      "246    HL\n",
      "247    MH\n",
      "248    MH\n",
      "249    HL\n",
      "Name: Chosen, Length: 125, dtype: object\n"
     ]
    }
   ],
   "source": [
    "selected_rows = df.iloc[125:250]\n",
    "\n",
    "# Drop any columns that are not features\n",
    "X = selected_rows.drop(columns=['Chosen', 'TimeTaken', 'Likert'])\n",
    "\n",
    "# Encode categorical variables if necessary\n",
    "X = pd.get_dummies(X)\n",
    "\n",
    "# Target variable\n",
    "y = selected_rows['Chosen']\n",
    "\n",
    "# Split the data into training and testing sets\n",
    "X_train, X_test, y_train, y_test = train_test_split(X, y, test_size=0.2, random_state=42)\n",
    "\n",
    "print(selected_rows)\n",
    "print(X)\n",
    "print(y)"
   ]
  },
  {
   "cell_type": "markdown",
   "id": "dfc845da",
   "metadata": {},
   "source": [
    "# Decision Tree for Phase 2"
   ]
  },
  {
   "cell_type": "code",
   "execution_count": 7,
   "id": "23459594",
   "metadata": {},
   "outputs": [
    {
     "name": "stderr",
     "output_type": "stream",
     "text": [
      "c:\\Users\\windows\\anaconda3\\lib\\site-packages\\sklearn\\model_selection\\_split.py:725: UserWarning: The least populated class in y has only 1 members, which is less than n_splits=5.\n",
      "  warnings.warn(\n"
     ]
    }
   ],
   "source": [
    "# Initialize and train the decision tree classifier\n",
    "dtc = DecisionTreeClassifier()\n",
    "\n",
    "dtc.get_params().keys()\n",
    "\n",
    "hyperparameters = [\n",
    "    {\n",
    "        'criterion': ['gini', 'entropy'],\n",
    "        'max_depth': [5, 10, 20, 30],\n",
    "        'min_samples_split': [2, 4, 6, 10, 15, 20],\n",
    "        'max_leaf_nodes': [3, 5, 10, 20, 50, 100]\n",
    "    }\n",
    "]\n",
    "\n",
    "rsc = RandomizedSearchCV(estimator=dtc,param_distributions=hyperparameters,n_iter=50,cv=5,random_state=13)\n",
    "rsc.fit(X_train, y_train)\n",
    "\n",
    "pd.set_option('display.max_colwidth', None)\n",
    "\n",
    "rsc_results = pd.DataFrame(rsc.cv_results_)\n",
    "\n",
    "best_index = rsc.best_index_\n",
    "\n",
    "rsc_results.loc[best_index]\n",
    "\n",
    "best_acc = rsc.best_score_\n",
    "\n",
    "predictions = rsc.best_estimator_.predict(X_test)"
   ]
  },
  {
   "cell_type": "code",
   "execution_count": 8,
   "id": "df967be2",
   "metadata": {},
   "outputs": [
    {
     "name": "stdout",
     "output_type": "stream",
     "text": [
      "Test accuracy for PHASE 2 is :  64.0 %\n"
     ]
    }
   ],
   "source": [
    "print(\"Test accuracy for PHASE 2 is : \", compute_accuracy(predictions, y_test), \"%\")"
   ]
  },
  {
   "cell_type": "markdown",
   "id": "cbe75731",
   "metadata": {},
   "source": [
    "# PHASE 3 - Rebuild using Like Scheme"
   ]
  },
  {
   "cell_type": "code",
   "execution_count": 9,
   "id": "3bfc6511",
   "metadata": {},
   "outputs": [
    {
     "name": "stdout",
     "output_type": "stream",
     "text": [
      "    Choice1 Choice2 Choice3 Chosen  TimeTaken Likert\n",
      "250      LL      HH      MM     MM       5041     CC\n",
      "251      LL      HH      MM     HH       2992     CC\n",
      "252      LL      HH      MM     HH       9236     CC\n",
      "253      LL      HH      MM     HH      10289     CC\n",
      "254      LL      HH      MM     HH       8219     FC\n",
      "..      ...     ...     ...    ...        ...    ...\n",
      "370      LM      MH      HL     HL       7775     CC\n",
      "371      LM      MH      HL     MH      12559     CC\n",
      "372      LM      MH      HL     MH       7128     CC\n",
      "373      LM      MH      HL     MH       9269     FC\n",
      "374      LM      MH      HL     MH      11454     FC\n",
      "\n",
      "[125 rows x 6 columns]\n",
      "     Choice1_HL  Choice1_LL  Choice1_LM  Choice2_HH  Choice2_MH  Choice2_MM  \\\n",
      "250           0           1           0           1           0           0   \n",
      "251           0           1           0           1           0           0   \n",
      "252           0           1           0           1           0           0   \n",
      "253           0           1           0           1           0           0   \n",
      "254           0           1           0           1           0           0   \n",
      "..          ...         ...         ...         ...         ...         ...   \n",
      "370           0           0           1           0           1           0   \n",
      "371           0           0           1           0           1           0   \n",
      "372           0           0           1           0           1           0   \n",
      "373           0           0           1           0           1           0   \n",
      "374           0           0           1           0           1           0   \n",
      "\n",
      "     Choice3_HL  Choice3_LH  Choice3_LM  Choice3_MM  \n",
      "250           0           0           0           1  \n",
      "251           0           0           0           1  \n",
      "252           0           0           0           1  \n",
      "253           0           0           0           1  \n",
      "254           0           0           0           1  \n",
      "..          ...         ...         ...         ...  \n",
      "370           1           0           0           0  \n",
      "371           1           0           0           0  \n",
      "372           1           0           0           0  \n",
      "373           1           0           0           0  \n",
      "374           1           0           0           0  \n",
      "\n",
      "[125 rows x 10 columns]\n",
      "250    MM\n",
      "251    HH\n",
      "252    HH\n",
      "253    HH\n",
      "254    HH\n",
      "       ..\n",
      "370    HL\n",
      "371    MH\n",
      "372    MH\n",
      "373    MH\n",
      "374    MH\n",
      "Name: Chosen, Length: 125, dtype: object\n"
     ]
    }
   ],
   "source": [
    "selected_rows = df.iloc[250:375]\n",
    "\n",
    "# Drop any columns that are not features\n",
    "X = selected_rows.drop(columns=['Chosen', 'TimeTaken', 'Likert'])\n",
    "\n",
    "# Encode categorical variables if necessary\n",
    "X = pd.get_dummies(X)\n",
    "\n",
    "# Target variable\n",
    "y = selected_rows['Chosen']\n",
    "\n",
    "# Split the data into training and testing sets\n",
    "X_train, X_test, y_train, y_test = train_test_split(X, y, test_size=0.2, random_state=42)\n",
    "\n",
    "print(selected_rows)\n",
    "print(X)\n",
    "print(y)"
   ]
  },
  {
   "cell_type": "markdown",
   "id": "4a6dee1c",
   "metadata": {},
   "source": [
    "# Decision Tree for Phase 3"
   ]
  },
  {
   "cell_type": "code",
   "execution_count": 10,
   "id": "56fab588",
   "metadata": {},
   "outputs": [
    {
     "name": "stderr",
     "output_type": "stream",
     "text": [
      "c:\\Users\\windows\\anaconda3\\lib\\site-packages\\sklearn\\model_selection\\_split.py:725: UserWarning: The least populated class in y has only 2 members, which is less than n_splits=5.\n",
      "  warnings.warn(\n"
     ]
    }
   ],
   "source": [
    "# Initialize and train the decision tree classifier\n",
    "dtc = DecisionTreeClassifier()\n",
    "\n",
    "dtc.get_params().keys()\n",
    "\n",
    "hyperparameters = [\n",
    "    {\n",
    "        'criterion': ['gini', 'entropy'],\n",
    "        'max_depth': [5, 10, 20, 30],\n",
    "        'min_samples_split': [2, 4, 6, 10, 15, 20],\n",
    "        'max_leaf_nodes': [3, 5, 10, 20, 50, 100]\n",
    "    }\n",
    "]\n",
    "\n",
    "rsc = RandomizedSearchCV(estimator=dtc,param_distributions=hyperparameters,n_iter=50,cv=5,random_state=13)\n",
    "rsc.fit(X_train, y_train)\n",
    "\n",
    "pd.set_option('display.max_colwidth', None)\n",
    "\n",
    "rsc_results = pd.DataFrame(rsc.cv_results_)\n",
    "\n",
    "best_index = rsc.best_index_\n",
    "\n",
    "rsc_results.loc[best_index]\n",
    "\n",
    "best_acc = rsc.best_score_\n",
    "\n",
    "predictions = rsc.best_estimator_.predict(X_test)"
   ]
  },
  {
   "cell_type": "code",
   "execution_count": 11,
   "id": "ce03c751",
   "metadata": {},
   "outputs": [
    {
     "name": "stdout",
     "output_type": "stream",
     "text": [
      "Test accuracy for PHASE 3 is :  64.0 %\n"
     ]
    }
   ],
   "source": [
    "print(\"Test accuracy for PHASE 3 is : \", compute_accuracy(predictions, y_test), \"%\")"
   ]
  },
  {
   "cell_type": "markdown",
   "id": "a6ab511f",
   "metadata": {},
   "source": [
    "# PHASE 4 - Rebuild using Upvote Scheme"
   ]
  },
  {
   "cell_type": "code",
   "execution_count": 12,
   "id": "d5ab09bc",
   "metadata": {},
   "outputs": [
    {
     "name": "stdout",
     "output_type": "stream",
     "text": [
      "    Choice1 Choice2 Choice3 Chosen  TimeTaken Likert\n",
      "375      LL      HH      MM     MM       6889     CC\n",
      "376      LL      HH      MM     HH       4919     CC\n",
      "377      LL      HH      MM     HH       6173     FC\n",
      "378      LL      HH      MM     HH      11576     CC\n",
      "379      LL      HH      MM     HH       4983     CC\n",
      "..      ...     ...     ...    ...        ...    ...\n",
      "495      LM      MH      HL     MH       9058     SC\n",
      "496      LM      MH      HL     HL      10601     CC\n",
      "497      LM      MH      HL     MH       7276     CC\n",
      "498      LM      MH      HL     MH      40409     FC\n",
      "499      LM      MH      HL     LM      13591     SC\n",
      "\n",
      "[125 rows x 6 columns]\n",
      "     Choice1_HL  Choice1_LL  Choice1_LM  Choice2_HH  Choice2_MH  Choice2_MM  \\\n",
      "375           0           1           0           1           0           0   \n",
      "376           0           1           0           1           0           0   \n",
      "377           0           1           0           1           0           0   \n",
      "378           0           1           0           1           0           0   \n",
      "379           0           1           0           1           0           0   \n",
      "..          ...         ...         ...         ...         ...         ...   \n",
      "495           0           0           1           0           1           0   \n",
      "496           0           0           1           0           1           0   \n",
      "497           0           0           1           0           1           0   \n",
      "498           0           0           1           0           1           0   \n",
      "499           0           0           1           0           1           0   \n",
      "\n",
      "     Choice3_HL  Choice3_LH  Choice3_LM  Choice3_MM  \n",
      "375           0           0           0           1  \n",
      "376           0           0           0           1  \n",
      "377           0           0           0           1  \n",
      "378           0           0           0           1  \n",
      "379           0           0           0           1  \n",
      "..          ...         ...         ...         ...  \n",
      "495           1           0           0           0  \n",
      "496           1           0           0           0  \n",
      "497           1           0           0           0  \n",
      "498           1           0           0           0  \n",
      "499           1           0           0           0  \n",
      "\n",
      "[125 rows x 10 columns]\n",
      "375    MM\n",
      "376    HH\n",
      "377    HH\n",
      "378    HH\n",
      "379    HH\n",
      "       ..\n",
      "495    MH\n",
      "496    HL\n",
      "497    MH\n",
      "498    MH\n",
      "499    LM\n",
      "Name: Chosen, Length: 125, dtype: object\n"
     ]
    }
   ],
   "source": [
    "selected_rows = df.iloc[375:500]\n",
    "\n",
    "# Drop any columns that are not features\n",
    "X = selected_rows.drop(columns=['Chosen', 'TimeTaken', 'Likert'])\n",
    "\n",
    "# Encode categorical variables if necessary\n",
    "X = pd.get_dummies(X)\n",
    "\n",
    "# Target variable\n",
    "y = selected_rows['Chosen']\n",
    "\n",
    "# Split the data into training and testing sets\n",
    "X_train, X_test, y_train, y_test = train_test_split(X, y, test_size=0.2, random_state=42)\n",
    "\n",
    "print(selected_rows)\n",
    "print(X)\n",
    "print(y)"
   ]
  },
  {
   "cell_type": "markdown",
   "id": "a1b4faa9",
   "metadata": {},
   "source": [
    "# Decision Tree for Phase 4"
   ]
  },
  {
   "cell_type": "code",
   "execution_count": 13,
   "id": "a9d7ae48",
   "metadata": {},
   "outputs": [],
   "source": [
    "# Initialize and train the decision tree classifier\n",
    "dtc = DecisionTreeClassifier()\n",
    "\n",
    "dtc.get_params().keys()\n",
    "\n",
    "hyperparameters = [\n",
    "    {\n",
    "        'criterion': ['gini', 'entropy'],\n",
    "        'max_depth': [5, 10, 20, 30],\n",
    "        'min_samples_split': [2, 4, 6, 10, 15, 20],\n",
    "        'max_leaf_nodes': [3, 5, 10, 20, 50, 100]\n",
    "    }\n",
    "]\n",
    "\n",
    "rsc = RandomizedSearchCV(estimator=dtc,param_distributions=hyperparameters,n_iter=50,cv=5,random_state=13)\n",
    "rsc.fit(X_train, y_train)\n",
    "\n",
    "pd.set_option('display.max_colwidth', None)\n",
    "\n",
    "rsc_results = pd.DataFrame(rsc.cv_results_)\n",
    "\n",
    "best_index = rsc.best_index_\n",
    "\n",
    "rsc_results.loc[best_index]\n",
    "\n",
    "best_acc = rsc.best_score_\n",
    "\n",
    "predictions = rsc.best_estimator_.predict(X_test)"
   ]
  },
  {
   "cell_type": "code",
   "execution_count": 14,
   "id": "f03b66c6",
   "metadata": {},
   "outputs": [
    {
     "name": "stdout",
     "output_type": "stream",
     "text": [
      "Test accuracy for PHASE 4 is :  64.0 %\n"
     ]
    }
   ],
   "source": [
    "print(\"Test accuracy for PHASE 4 is : \", compute_accuracy(predictions, y_test), \"%\")"
   ]
  }
 ],
 "metadata": {
  "kernelspec": {
   "display_name": "Python 3 (ipykernel)",
   "language": "python",
   "name": "python3"
  },
  "language_info": {
   "codemirror_mode": {
    "name": "ipython",
    "version": 3
   },
   "file_extension": ".py",
   "mimetype": "text/x-python",
   "name": "python",
   "nbconvert_exporter": "python",
   "pygments_lexer": "ipython3",
   "version": "3.9.18"
  }
 },
 "nbformat": 4,
 "nbformat_minor": 5
}
